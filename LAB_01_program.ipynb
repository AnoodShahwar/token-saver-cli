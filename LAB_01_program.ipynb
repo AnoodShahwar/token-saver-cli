{
 "cells": [
  {
   "cell_type": "code",
   "execution_count": 1,
   "id": "710e95c2-73ac-4d65-aa65-27defb2a0171",
   "metadata": {},
   "outputs": [
    {
     "name": "stdout",
     "output_type": "stream",
     "text": [
      "🔐 Welcome to Token Saver!\n",
      "Securely store any token — GitHub, OpenAI, Firebase and more.\n",
      "This program uses Python.\n",
      "\n"
     ]
    },
    {
     "name": "stdin",
     "output_type": "stream",
     "text": [
      "Please enter your name:  Anood\n"
     ]
    },
    {
     "name": "stdout",
     "output_type": "stream",
     "text": [
      "Hi Anood! Let's start.\n",
      "\n",
      "Choose and type one of these commands: add / view / exit\n"
     ]
    },
    {
     "name": "stdin",
     "output_type": "stream",
     "text": [
      ">>>  add\n",
      "Give this token a name (e.g. 'Main Token'):  CLI Token Saver\n",
      "Paste your token:  ghp_123456789\n",
      "Add a tag to categorize (e.g. github/openai/firebase), or leave blank:  GitHub\n"
     ]
    },
    {
     "name": "stdout",
     "output_type": "stream",
     "text": [
      "Token saved successfully!\n",
      "\n",
      "Choose and type one of these commands: add / view / exit\n"
     ]
    },
    {
     "name": "stdin",
     "output_type": "stream",
     "text": [
      ">>>  view\n"
     ]
    },
    {
     "name": "stdout",
     "output_type": "stream",
     "text": [
      "\n",
      "Saved Tokens:\n",
      "CLI Token Saver → ghp_...6789 [GitHub]\n",
      "Total tokens saved: 1 \n",
      "\n",
      "Choose and type one of these commands: add / view / exit\n"
     ]
    },
    {
     "name": "stdin",
     "output_type": "stream",
     "text": [
      ">>>  exit\n"
     ]
    },
    {
     "name": "stdout",
     "output_type": "stream",
     "text": [
      "Goodbye Anood! You saved 1 token(s).\n"
     ]
    }
   ],
   "source": [
    "# Task 1: Introduction\n",
    "print(\"🔐 Welcome to Token Saver!\")\n",
    "print(\"Securely store any token — GitHub, OpenAI, Firebase and more.\")\n",
    "\n",
    "# Task 2: Terminal\n",
    "# In Jupyter Notebook use Shift + Enter to run this cell\n",
    "\n",
    "# Task 3: Python Interpreter\n",
    "print(\"This program uses Python.\\n\")\n",
    "\n",
    "# Task 4: Variables\n",
    "token_store = {}\n",
    "username = \"\"\n",
    "total_tokens = 0\n",
    "\n",
    "# Task 5: Operator\n",
    "total_tokens = total_tokens + 0\n",
    "\n",
    "# Task 6: Dictionary\n",
    "# token_store = {\n",
    "#     \"GitHub PAT\": [\"ghp_abcd123\", \"github\"]\n",
    "# }\n",
    "\n",
    "# Task 7: List and Tuple\n",
    "commands = ['add', 'view', 'exit']\n",
    "tags = ('github', 'firebase', 'openai')\n",
    "\n",
    "# Task 8, 9, 10: User input and Control Structure\n",
    "username = input(\"Please enter your name: \")\n",
    "print(\"Hi\", username + \"! Let's start.\\n\")\n",
    "\n",
    "while True:\n",
    "    print(\"Choose and type one of these commands: add / view / exit\")\n",
    "    choice = input(\">>> \").strip().lower()\n",
    "\n",
    "    if choice == \"add\":\n",
    "        name = input(\"Give this token a name (e.g. 'Main Token'): \")\n",
    "        token = input(\"Paste your token: \")\n",
    "        tag = input(\"Add a tag to categorize (e.g. github/openai/firebase), or leave blank: \")\n",
    "\n",
    "        if tag == \"\":\n",
    "            tag = \"untagged\"\n",
    "\n",
    "        token_store[name] = [token, tag]\n",
    "        total_tokens = total_tokens + 1\n",
    "        print(\"Token saved successfully!\\n\")\n",
    "\n",
    "    elif choice == \"view\":\n",
    "        if total_tokens == 0:\n",
    "            print(\"No tokens saved yet.\\n\")\n",
    "        else:\n",
    "            print(\"\\nSaved Tokens:\")\n",
    "            for name in token_store:\n",
    "                value, tag = token_store[name]\n",
    "                short_token = value[:4] + \"...\" + value[-4:]\n",
    "                print(name, \"→\", short_token, f\"[{tag}]\")\n",
    "            print(\"Total tokens saved:\", total_tokens, \"\\n\")\n",
    "\n",
    "    elif choice == \"exit\":\n",
    "        print(\"Goodbye\", username + \"!\", \"You saved\", total_tokens, \"token(s).\")\n",
    "        break\n",
    "\n",
    "    else:\n",
    "        print(\"Invalid input. Please type add, view, or exit.\\n\")\n"
   ]
  },
  {
   "cell_type": "code",
   "execution_count": null,
   "id": "ba2a45b0-915d-4957-aed7-0c20f7f34021",
   "metadata": {},
   "outputs": [],
   "source": []
  }
 ],
 "metadata": {
  "kernelspec": {
   "display_name": "Python [conda env:base] *",
   "language": "python",
   "name": "conda-base-py"
  },
  "language_info": {
   "codemirror_mode": {
    "name": "ipython",
    "version": 3
   },
   "file_extension": ".py",
   "mimetype": "text/x-python",
   "name": "python",
   "nbconvert_exporter": "python",
   "pygments_lexer": "ipython3",
   "version": "3.11.7"
  }
 },
 "nbformat": 4,
 "nbformat_minor": 5
}
